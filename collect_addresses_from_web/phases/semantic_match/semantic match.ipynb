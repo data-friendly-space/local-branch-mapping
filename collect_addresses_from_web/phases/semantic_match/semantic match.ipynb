{
 "cells": [
  {
   "cell_type": "code",
   "execution_count": 1,
   "metadata": {},
   "outputs": [
    {
     "name": "stderr",
     "output_type": "stream",
     "text": [
      "D:\\Applications\\Anaconda\\lib\\site-packages\\fuzzywuzzy\\fuzz.py:11: UserWarning: Using slow pure-python SequenceMatcher. Install python-Levenshtein to remove this warning\n",
      "  warnings.warn('Using slow pure-python SequenceMatcher. Install python-Levenshtein to remove this warning')\n"
     ]
    }
   ],
   "source": [
    "import pandas as pd\n",
    "from geopy import distance as dis\n",
    "import itertools\n",
    "import numpy as np\n",
    "import re\n",
    "import fuzzywuzzy\n",
    "from fuzzywuzzy import process\n",
    "from fuzzywuzzy import fuzz"
   ]
  },
  {
   "cell_type": "code",
   "execution_count": 2,
   "metadata": {},
   "outputs": [],
   "source": [
    "def calculate_distance(p1,p2):\n",
    "    return dis.distance(p1,p2).km"
   ]
  },
  {
   "cell_type": "code",
   "execution_count": 4,
   "metadata": {},
   "outputs": [],
   "source": [
    "sm_gt=pd.read_csv(\"../data/sm_gt.csv\")\n",
    "all_infor_gt=pd.read_csv('../data/page_info_Guatemala.csv',delimiter='|',index_col=0)\n",
    "infor_gt=pd.read_csv('../data/pages_Guatemala_validate.csv',delimiter='|',index_col=0)\n",
    "matched_df_gt=pd.read_csv('../data/address_name_match_gt.csv')"
   ]
  },
  {
   "cell_type": "code",
   "execution_count": 5,
   "metadata": {},
   "outputs": [],
   "source": [
    "infor_gt=infor_gt[['fb_id','latitude','longitude']].merge(all_infor_gt,left_on='fb_id',how='left',right_on=\"id\")"
   ]
  },
  {
   "cell_type": "code",
   "execution_count": 6,
   "metadata": {},
   "outputs": [],
   "source": [
    "name_list_gt=list(map(lambda x: x[1]['username'] if type(x[1]['username'])==str else x[1]['name'],infor_gt.iterrows()))"
   ]
  },
  {
   "cell_type": "code",
   "execution_count": 7,
   "metadata": {},
   "outputs": [],
   "source": [
    "name_list_gt_space=list(map(lambda x :re.sub(\"([a-z])([A-Z])\",\"\\g<1> \\g<2>\",x),name_list_gt))"
   ]
  },
  {
   "cell_type": "code",
   "execution_count": 8,
   "metadata": {},
   "outputs": [],
   "source": [
    "from sklearn.feature_extraction.text import TfidfVectorizer"
   ]
  },
  {
   "cell_type": "code",
   "execution_count": 9,
   "metadata": {},
   "outputs": [],
   "source": [
    "vectorizer = TfidfVectorizer(ngram_range=(1, 1))"
   ]
  },
  {
   "cell_type": "code",
   "execution_count": 10,
   "metadata": {},
   "outputs": [
    {
     "data": {
      "text/plain": [
       "TfidfVectorizer(analyzer='word', binary=False, decode_error='strict',\n",
       "        dtype=<class 'numpy.float64'>, encoding='utf-8', input='content',\n",
       "        lowercase=True, max_df=1.0, max_features=None, min_df=1,\n",
       "        ngram_range=(1, 1), norm='l2', preprocessor=None, smooth_idf=True,\n",
       "        stop_words=None, strip_accents=None, sublinear_tf=False,\n",
       "        token_pattern='(?u)\\\\b\\\\w\\\\w+\\\\b', tokenizer=None, use_idf=True,\n",
       "        vocabulary=None)"
      ]
     },
     "execution_count": 10,
     "metadata": {},
     "output_type": "execute_result"
    }
   ],
   "source": [
    "vectorizer.fit(name_list_gt_space)"
   ]
  },
  {
   "cell_type": "code",
   "execution_count": 11,
   "metadata": {},
   "outputs": [
    {
     "data": {
      "text/plain": [
       "['castilla tomas gtsanto',\n",
       " 0.5613704932281236,\n",
       " 'Cruz Roja GTSanto Tomas Castilla']"
      ]
     },
     "execution_count": 11,
     "metadata": {},
     "output_type": "execute_result"
    }
   ],
   "source": [
    "def top1(string):\n",
    "    df=pd.DataFrame([vectorizer.get_feature_names(),vectorizer.transform([string]).todense()[0].tolist()[0]]).T.sort_values(1,ascending=False)\n",
    "    df=df[df[1]==df[1].max()]\n",
    "    df.columns=['topic','score']\n",
    "    df['string']=string\n",
    "    tmp_list=df.reset_index(drop=True).values.tolist()\n",
    "    return [' '.join(df['topic']),df['score'].max(),set(df['string']).pop()]\n",
    "top1('Cruz Roja GTSanto Tomas Castilla')"
   ]
  },
  {
   "cell_type": "code",
   "execution_count": 12,
   "metadata": {},
   "outputs": [],
   "source": [
    "topic_sm_df_gt=pd.DataFrame(list(map(top1,name_list_gt_space)))"
   ]
  },
  {
   "cell_type": "code",
   "execution_count": 13,
   "metadata": {},
   "outputs": [],
   "source": [
    "topic_sm_df_gt.columns=['topic','score','name_sm']"
   ]
  },
  {
   "cell_type": "code",
   "execution_count": 14,
   "metadata": {},
   "outputs": [
    {
     "data": {
      "text/plain": [
       "TfidfVectorizer(analyzer='word', binary=False, decode_error='strict',\n",
       "        dtype=<class 'numpy.float64'>, encoding='utf-8', input='content',\n",
       "        lowercase=True, max_df=1.0, max_features=None, min_df=1,\n",
       "        ngram_range=(1, 1), norm='l2', preprocessor=None, smooth_idf=True,\n",
       "        stop_words=None, strip_accents=None, sublinear_tf=False,\n",
       "        token_pattern='(?u)\\\\b\\\\w\\\\w+\\\\b', tokenizer=None, use_idf=True,\n",
       "        vocabulary=None)"
      ]
     },
     "execution_count": 14,
     "metadata": {},
     "output_type": "execute_result"
    }
   ],
   "source": [
    "vectorizer = TfidfVectorizer(ngram_range=(1, 1))\n",
    "vectorizer.fit(matched_df_gt['name'])"
   ]
  },
  {
   "cell_type": "code",
   "execution_count": 15,
   "metadata": {},
   "outputs": [],
   "source": [
    "topic_match_df_gt=pd.DataFrame(list(map(top1,matched_df_gt['name'])))"
   ]
  },
  {
   "cell_type": "code",
   "execution_count": 16,
   "metadata": {},
   "outputs": [],
   "source": [
    "topic_match_df_gt.columns=['topic','score','name_match']"
   ]
  },
  {
   "cell_type": "code",
   "execution_count": 17,
   "metadata": {},
   "outputs": [],
   "source": [
    "def fuzzy_match(string):\n",
    "    match=process.extract(string,topic_match_df_gt['topic'],limit=1,scorer=fuzz.token_sort_ratio)[0]\n",
    "    return [string,match[0]]"
   ]
  },
  {
   "cell_type": "code",
   "execution_count": 18,
   "metadata": {},
   "outputs": [],
   "source": [
    "middle_match_df_gt=pd.DataFrame(list(map(fuzzy_match,topic_sm_df_gt['topic'])))"
   ]
  },
  {
   "cell_type": "code",
   "execution_count": 19,
   "metadata": {},
   "outputs": [],
   "source": [
    "middle_match_df_gt.columns=['sm_topic','name_topic']"
   ]
  },
  {
   "cell_type": "code",
   "execution_count": 20,
   "metadata": {},
   "outputs": [],
   "source": [
    "tmp_df_gt=topic_sm_df_gt.merge(middle_match_df_gt,left_on='topic',how='left',right_on='sm_topic')[[\"name_sm\",\"sm_topic\",\"name_topic\"]].merge(topic_match_df_gt,how='left',left_on='name_topic',right_on='topic')[['name_sm','name_match']].merge(matched_df_gt,how='left',left_on=\"name_match\",right_on='name').drop(columns=['Unnamed: 0','min_dist','name'])"
   ]
  },
  {
   "cell_type": "code",
   "execution_count": 21,
   "metadata": {},
   "outputs": [],
   "source": [
    "merged_gt=pd.concat([infor_gt,tmp_df_gt],axis=1)[['fb_id', 'latitude', 'longitude','name', 'phone', 'username', 'website', 'single_line_address','name_sm',\n",
    "       'name_match', 'address', 'web_lat', 'web_lng', 'weight']]"
   ]
  },
  {
   "cell_type": "code",
   "execution_count": 22,
   "metadata": {},
   "outputs": [],
   "source": [
    "merged_gt['distance_page_web']=merged_gt.apply(lambda x:calculate_distance((x['latitude'],x['longitude']),(x['web_lat'],x['web_lng'])),axis=1)"
   ]
  },
  {
   "cell_type": "code",
   "execution_count": 23,
   "metadata": {},
   "outputs": [],
   "source": [
    "Gmaps_gt_df=pd.read_csv('../data/GMaps_Guatemala.csv',index_col=0)"
   ]
  },
  {
   "cell_type": "code",
   "execution_count": 24,
   "metadata": {},
   "outputs": [
    {
     "data": {
      "text/plain": [
       "TfidfVectorizer(analyzer='word', binary=False, decode_error='strict',\n",
       "        dtype=<class 'numpy.float64'>, encoding='utf-8', input='content',\n",
       "        lowercase=True, max_df=1.0, max_features=None, min_df=1,\n",
       "        ngram_range=(1, 1), norm='l2', preprocessor=None, smooth_idf=True,\n",
       "        stop_words=None, strip_accents=None, sublinear_tf=False,\n",
       "        token_pattern='(?u)\\\\b\\\\w\\\\w+\\\\b', tokenizer=None, use_idf=True,\n",
       "        vocabulary=None)"
      ]
     },
     "execution_count": 24,
     "metadata": {},
     "output_type": "execute_result"
    }
   ],
   "source": [
    "vectorizer = TfidfVectorizer(ngram_range=(1, 1))\n",
    "vectorizer.fit(Gmaps_gt_df['place_name'])"
   ]
  },
  {
   "cell_type": "code",
   "execution_count": 25,
   "metadata": {},
   "outputs": [],
   "source": [
    "topic_Gmap_df_gt=pd.DataFrame(list(map(top1,Gmaps_gt_df['place_name'])))"
   ]
  },
  {
   "cell_type": "code",
   "execution_count": 26,
   "metadata": {},
   "outputs": [],
   "source": [
    "topic_Gmap_df_gt.columns=['topic','score','name_match']"
   ]
  },
  {
   "cell_type": "code",
   "execution_count": 27,
   "metadata": {},
   "outputs": [],
   "source": [
    "def fuzzy_match(string):\n",
    "    match=process.extract(string,topic_Gmap_df_gt['topic'],limit=1,scorer=fuzz.token_sort_ratio)[0]\n",
    "    return [string,match[0]]"
   ]
  },
  {
   "cell_type": "code",
   "execution_count": 28,
   "metadata": {},
   "outputs": [],
   "source": [
    "middle_match_df_gt=pd.DataFrame(list(map(fuzzy_match,topic_sm_df_gt['topic'])))"
   ]
  },
  {
   "cell_type": "code",
   "execution_count": 29,
   "metadata": {},
   "outputs": [],
   "source": [
    "middle_match_df_gt.columns=['sm_topic','Gmaps_topic']"
   ]
  },
  {
   "cell_type": "code",
   "execution_count": 30,
   "metadata": {},
   "outputs": [],
   "source": [
    "tmp_df_gt=topic_sm_df_gt.merge(middle_match_df_gt,left_on='topic',how='left',right_on='sm_topic')[[\"name_sm\",\"sm_topic\",\"Gmaps_topic\"]].merge(topic_Gmap_df_gt,how='left',left_on='Gmaps_topic',right_on='topic')[['name_sm','name_match']].merge(Gmaps_gt_df,how='left',left_on=\"name_match\",right_on='place_name').drop(columns=['place_id','name_match'])[['name_sm','place_name','place_address','place_lat','place_long']].drop_duplicates().reset_index(drop=True)"
   ]
  },
  {
   "cell_type": "code",
   "execution_count": 31,
   "metadata": {},
   "outputs": [],
   "source": [
    "tmp_df_gt.columns=['name_sm', 'Gmaps_place_name', 'Gmaps_place_address', 'Gmap_lat', 'Gmap_long']"
   ]
  },
  {
   "cell_type": "code",
   "execution_count": 32,
   "metadata": {},
   "outputs": [],
   "source": [
    "merged_gt=merged_gt.merge(tmp_df_gt,left_on='name_sm',how='left',right_on='name_sm')"
   ]
  },
  {
   "cell_type": "code",
   "execution_count": 33,
   "metadata": {},
   "outputs": [],
   "source": [
    "merged_gt['distance_page_Gmaps']=merged_gt.apply(lambda x:calculate_distance((x['latitude'],x['longitude']),(x['Gmap_lat'],x['Gmap_long'])),axis=1)"
   ]
  },
  {
   "cell_type": "code",
   "execution_count": 34,
   "metadata": {},
   "outputs": [],
   "source": [
    "merged_gt.columns=['fb_id', 'fb_latitude', 'fb_longitude', 'name', 'phone', 'username',\n",
    "       'website', 'single_line_address', 'name_sm', 'name_match', 'web_address',\n",
    "       'web_lat', 'web_lng', 'weight', 'distance_page_web', 'Gmaps_place_name',\n",
    "       'Gmaps_place_address', 'Gmap_lat', 'Gmap_long', 'distance_page_Gmaps']"
   ]
  },
  {
   "cell_type": "code",
   "execution_count": 35,
   "metadata": {},
   "outputs": [],
   "source": [
    "merged_gt.to_csv(\"../data/validation_set_gt.csv\")"
   ]
  },
  {
   "cell_type": "code",
   "execution_count": null,
   "metadata": {},
   "outputs": [],
   "source": []
  }
 ],
 "metadata": {
  "kernelspec": {
   "display_name": "Python 3",
   "language": "python",
   "name": "python3"
  },
  "language_info": {
   "codemirror_mode": {
    "name": "ipython",
    "version": 3
   },
   "file_extension": ".py",
   "mimetype": "text/x-python",
   "name": "python",
   "nbconvert_exporter": "python",
   "pygments_lexer": "ipython3",
   "version": "3.7.3"
  }
 },
 "nbformat": 4,
 "nbformat_minor": 2
}
