{
 "cells": [
  {
   "cell_type": "code",
   "execution_count": null,
   "metadata": {},
   "outputs": [],
   "source": [
    "import pandas as pd\n",
    "country = 'Malawi'\n",
    "\n",
    "# load dataframe with social media and/or news\n",
    "df = pd.read_csv('sm_Malawi.csv')\n",
    "df.head()"
   ]
  },
  {
   "cell_type": "code",
   "execution_count": null,
   "metadata": {},
   "outputs": [],
   "source": [
    "# load gazetteer (from http://geonames.nga.mil/gns/html/namefiles.html)\n",
    "df_loc = pd.read_csv('locations/'+country+'/'+'loc_administrative_a.txt', sep='\\t')\n",
    "df_loc = df_loc.append(pd.read_csv('locations/'+country+'/'+'loc_localities_l.txt', sep='\\t'))\n",
    "df_loc = df_loc.append(pd.read_csv('locations/'+country+'/'+'loc_populatedplaces_p.txt', sep='\\t'))\n",
    "\n",
    "# create a dictionary locations : coordinates\n",
    "df_loc = df_loc.sort_values(by=['ADM1'])\n",
    "df_loc = df_loc.drop_duplicates(subset=['FULL_NAME_ND_RO'], keep='first')\n",
    "loc_dict = dict(zip(df_loc.FULL_NAME_ND_RO, zip(df_loc.LAT, df_loc.LONG)))\n",
    "loc_dict"
   ]
  },
  {
   "cell_type": "code",
   "execution_count": null,
   "metadata": {},
   "outputs": [],
   "source": [
    "import re, string\n",
    "from tqdm import tqdm\n",
    "tqdm.pandas(desc=\"progress\")\n",
    "from tqdm import tqdm_notebook\n",
    "from fuzzywuzzy import process\n",
    "from fuzzywuzzy import fuzz\n",
    "\n",
    "remove_keywords = ['nan', 'Planes de Emergencia', 'Cruz Roja', 'Media Luna Roja', 'Guatemala', 'Argentina', 'Japon', 'Juventud']\n",
    "remove_keywords.extend(['Malawi', 'Lebanon', 'لبنان', 'Nederland', 'Netherlands'])\n",
    "\n",
    "# define function to find locations in text\n",
    "def find_locations(text, loc_dict):\n",
    "    \n",
    "    # skip non-string values\n",
    "    if type(text) != str:\n",
    "        return []\n",
    "    else:\n",
    "        for k in remove_keywords:\n",
    "            text = re.sub(k, '', text)\n",
    "        # remove non-capitalized words from text (reduces ambiguities)\n",
    "        text = \" \".join([x for x in text.split(\" \") if not x.islower()])\n",
    "        # skip is final string is too short (20 char)\n",
    "        if len(text) < 20:\n",
    "            return []\n",
    "        # find locations and append them to list\n",
    "        ratio_loc = process.extract(text, loc_dict.keys(), scorer = fuzz.token_set_ratio)\n",
    "        new_loc = []\n",
    "        for l,v in ratio_loc: \n",
    "            if v > 95:\n",
    "                new_loc.append(l)\n",
    "        new_loc = list({i for sub in new_loc for i in sub.split(' ')})\n",
    "        new_loc = list(set([i for i in new_loc if i in loc_dict.keys()]))\n",
    "        return new_loc\n",
    "    \n",
    "df['locations'] = df['message'].progress_apply(lambda x: find_locations(x, loc_dict))\n",
    "df.head()"
   ]
  },
  {
   "cell_type": "code",
   "execution_count": null,
   "metadata": {},
   "outputs": [],
   "source": [
    "# load dataframe with keywords for classification\n",
    "df_cat = pd.read_csv('classification.csv')\n",
    "df_cat.head()"
   ]
  },
  {
   "cell_type": "code",
   "execution_count": null,
   "metadata": {},
   "outputs": [],
   "source": [
    "import re\n",
    "\n",
    "# define function to classify text based on keywords\n",
    "def classify_text(text):\n",
    "    \n",
    "    if str(text) == 'nan':\n",
    "        return []\n",
    "    \n",
    "    cat_match = []\n",
    "    for i in range(len(df_cat)):\n",
    "        row_cat = df_cat.iloc[i]\n",
    "        keywords = [x for x in row_cat[2:].values if str(x) != 'nan']\n",
    "        for keyword in keywords:\n",
    "            if re.search(str(keyword), text, flags=re.IGNORECASE):\n",
    "                cat_match.append(row_cat[1])\n",
    "    return list(set(cat_match))\n",
    "\n",
    "df_class = df.copy()\n",
    "df_class['category'] = df_class['message'].apply(classify_text)\n",
    "df_class.head()"
   ]
  },
  {
   "cell_type": "code",
   "execution_count": null,
   "metadata": {},
   "outputs": [],
   "source": [
    "from ast import literal_eval\n",
    "\n",
    "# expand lists of locations and categories (for Tableau)\n",
    "def expand_lists(df_):\n",
    "    new_df = pd.DataFrame(columns=df_.columns)\n",
    "    \n",
    "    for i in range(len(df_)):\n",
    "        row_cat = df_.iloc[i]\n",
    "        for loc in row_cat['locations']: #literal_eval(row_cat['locations'])\n",
    "            for cat in row_cat['category']:\n",
    "                new_df = new_df.append({\n",
    "                            'medium': row_cat[0],\n",
    "                            'created_time': row_cat[1],\n",
    "                            'name': row_cat[2],\n",
    "                            'message': row_cat[3],\n",
    "                            'locations': loc,\n",
    "                            'category': cat              \n",
    "                        }, ignore_index=True)\n",
    "    return new_df\n",
    "        \n",
    "df_for_tableau = expand_lists(df_class)\n",
    "df_for_tableau.head()"
   ]
  },
  {
   "cell_type": "code",
   "execution_count": null,
   "metadata": {},
   "outputs": [],
   "source": [
    "df_for_tableau.to_csv('sm_Malawi_classified.csv', index=False)"
   ]
  },
  {
   "cell_type": "code",
   "execution_count": null,
   "metadata": {},
   "outputs": [],
   "source": [
    "###### ADD POLYGONS ADMIN LEVELS\n",
    "\n",
    "import pandas as pd\n",
    "country = 'Malawi'\n",
    "df = pd.read_csv('sm_Malawi_classified.csv')\n",
    "df.head()"
   ]
  },
  {
   "cell_type": "code",
   "execution_count": null,
   "metadata": {},
   "outputs": [],
   "source": [
    "import geopandas as gpd\n",
    "from shapely.geometry import Point\n",
    "\n",
    "# load admin level shapefile (from https://data.humdata.org/ or other)\n",
    "gdf_adm1 = gpd.read_file('shapefiles/'+country+'/adm1.shp')\n",
    "gdf_adm2 = gpd.read_file('shapefiles/'+country+'/adm2.shp')\n",
    "gdf_adm2.head()"
   ]
  },
  {
   "cell_type": "code",
   "execution_count": null,
   "metadata": {},
   "outputs": [],
   "source": [
    "# loop over points, if within a polygon add polygon's geometry to dataframe\n",
    "def get_poly(row):\n",
    "    location = row['locations']\n",
    "    if location not in loc_dict.keys():\n",
    "        print('WARNING:', location, 'not found!!!')\n",
    "        return pd.Series({'adm1_name': 'nan',\n",
    "                          'adm1_polygon': 'nan',\n",
    "                          'adm2_name': 'nan',\n",
    "                          'adm2_polygon': 'nan'})\n",
    "    else:\n",
    "        coord = Point((loc_dict[location][1], loc_dict[location][0]))\n",
    "        for index, row in gdf_adm2.iterrows():\n",
    "            if row.geometry.contains(coord):\n",
    "                \n",
    "                adm1_name = row['NAME_1']\n",
    "                adm1_polygon = gdf_adm1[gdf_adm1['NAME_1']==adm1_name].geometry\n",
    "                if (location == adm1_name or 'region' in location.lower()):\n",
    "                    adm2_name = 'nan'\n",
    "                    adm2_polygon = 'nan'\n",
    "                else:\n",
    "                    adm2_name = str(row['NAME_2']).replace('TA ', '')\n",
    "                    adm2_polygon = row.geometry\n",
    "                         \n",
    "                return pd.Series({'adm1_name': adm1_name,\n",
    "                                  'adm1_polygon': adm1_polygon,\n",
    "                                  'adm2_name': adm2_name,\n",
    "                                  'adm2_polygon': adm2_polygon})\n",
    "        \n",
    "df2 = df.copy()\n",
    "df2 = df2.merge(df2.apply(get_poly, axis=1), left_index=True, right_index=True)\n",
    "df2"
   ]
  },
  {
   "cell_type": "code",
   "execution_count": null,
   "metadata": {},
   "outputs": [],
   "source": [
    "df2.to_csv('sm_Malawi_classified_polygons.csv', index=False)"
   ]
  }
 ],
 "metadata": {
  "kernelspec": {
   "display_name": "Python 3",
   "language": "python",
   "name": "python3"
  },
  "language_info": {
   "codemirror_mode": {
    "name": "ipython",
    "version": 3
   },
   "file_extension": ".py",
   "mimetype": "text/x-python",
   "name": "python",
   "nbconvert_exporter": "python",
   "pygments_lexer": "ipython3",
   "version": "3.7.3"
  }
 },
 "nbformat": 4,
 "nbformat_minor": 2
}
